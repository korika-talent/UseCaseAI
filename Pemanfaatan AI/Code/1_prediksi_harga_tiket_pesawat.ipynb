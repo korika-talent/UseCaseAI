{
 "cells": [
  {
   "cell_type": "markdown",
   "metadata": {},
   "source": [
    "# Prediksi Harga Tiket Pesawat dengan LSTM\n",
    "\n",
    "## Pendahuluan\n",
    "Pada notebook ini, kita akan membuat model prediksi harga tiket pesawat menggunakan metode Long Short-Term Memory (LSTM). Model ini dirancang untuk menganalisis data historis harga tiket dan memberikan prediksi harga di masa depan. Tujuan dari model ini adalah untuk membantu pengguna memahami tren harga tiket pesawat.\n",
    "\n",
    "## Import Library yang Dibutuhkan\n",
    "Kita akan menggunakan beberapa library Python untuk melakukan analisis dan membangun model LSTM.\n"
   ]
  },
  {
   "cell_type": "code",
   "execution_count": null,
   "metadata": {
    "vscode": {
     "languageId": "plaintext"
    }
   },
   "outputs": [],
   "source": [
    "# Import necessary libraries\n",
    "import pandas as pd\n",
    "import numpy as np\n",
    "import matplotlib.pyplot as plt\n",
    "from sklearn.preprocessing import MinMaxScaler\n",
    "from keras.models import Sequential\n",
    "from keras.layers import LSTM, Dense, Dropout\n",
    "from sklearn.metrics import mean_squared_error\n"
   ]
  },
  {
   "cell_type": "markdown",
   "metadata": {},
   "source": [
    "## Langkah 1: Memuat Dataset\n",
    "Dataset yang digunakan adalah data harga tiket pesawat dengan berbagai fitur seperti tanggal, harga, dan maskapai. Pastikan dataset sudah dalam format Excel (.xlsx)."
   ]
  },
  {
   "cell_type": "code",
   "execution_count": null,
   "metadata": {
    "vscode": {
     "languageId": "plaintext"
    }
   },
   "outputs": [],
   "source": [
    "# Memuat dataset\n",
    "df = pd.read_excel(\"1_prediksi_harga_tiket_pesawat.xlsx\", parse_dates=[\"Date\"])\n",
    "\n",
    "# Menampilkan data awal\n",
    "df.head()"
   ]
  },
  {
   "cell_type": "markdown",
   "metadata": {},
   "source": [
    "## Langkah 2: Preprocessing Data\n",
    "Dataset akan diolah agar sesuai untuk model LSTM. Di sini kita akan mengatur kolom 'Date' sebagai index dan memilih hanya kolom 'Flight Price' untuk diprediksi."
   ]
  },
  {
   "cell_type": "code",
   "execution_count": null,
   "metadata": {
    "vscode": {
     "languageId": "plaintext"
    }
   },
   "outputs": [],
   "source": [
    "# Mengatur 'Date' sebagai index\n",
    "df['Date'] = pd.to_datetime(df['Date'])\n",
    "df.set_index('Date', inplace=True)\n",
    "\n",
    "# Menggunakan hanya kolom 'Flight Price'\n",
    "df = df[['Flight Price']]\n",
    "\n",
    "# Visualisasi harga tiket pesawat\n",
    "plt.figure(figsize=(10, 6))\n",
    "plt.plot(df['Flight Price'])\n",
    "plt.title('Harga Tiket Pesawat dari Waktu ke Waktu')\n",
    "plt.xlabel('Tanggal')\n",
    "plt.ylabel('Harga')\n",
    "plt.show()"
   ]
  },
  {
   "cell_type": "markdown",
   "metadata": {},
   "source": [
    "## Langkah 3: Normalisasi Data\n",
    "Data harga tiket akan dinormalisasi menggunakan MinMaxScaler agar berada dalam rentang [0, 1]. Hal ini bertujuan untuk memperbaiki performa model LSTM."
   ]
  },
  {
   "cell_type": "code",
   "execution_count": null,
   "metadata": {
    "vscode": {
     "languageId": "plaintext"
    }
   },
   "outputs": [],
   "source": [
    "# Normalisasi data harga tiket\n",
    "scaler = MinMaxScaler(feature_range=(0, 1))\n",
    "scaled_data = scaler.fit_transform(df[['Flight Price']])"
   ]
  },
  {
   "cell_type": "markdown",
   "metadata": {},
   "source": [
    "## Langkah 4: Membagi Data Train dan Test\n",
    "Data akan dibagi menjadi dua bagian: 80% untuk training dan 20% untuk testing."
   ]
  },
  {
   "cell_type": "code",
   "execution_count": null,
   "metadata": {
    "vscode": {
     "languageId": "plaintext"
    }
   },
   "outputs": [],
   "source": [
    "# Membagi data menjadi train dan test\n",
    "train_size = int(len(scaled_data) * 0.8)\n",
    "train_data = scaled_data[:train_size]\n",
    "test_data = scaled_data[train_size:]"
   ]
  },
  {
   "cell_type": "markdown",
   "metadata": {},
   "source": [
    "## Langkah 5: Membuat Dataset untuk LSTM\n",
    "Kita akan membuat dataset berdasarkan time-step tertentu. Dalam hal ini, kita menggunakan 30 hari terakhir sebagai input untuk memprediksi harga tiket berikutnya."
   ]
  },
  {
   "cell_type": "code",
   "execution_count": null,
   "metadata": {
    "vscode": {
     "languageId": "plaintext"
    }
   },
   "outputs": [],
   "source": [
    "# Fungsi untuk membuat dataset dengan time-step tertentu\n",
    "def create_dataset(data, time_step=1):\n",
    "    X, y = [], []\n",
    "    for i in range(len(data)-time_step-1):\n",
    "        X.append(data[i:(i+time_step), 0])\n",
    "        y.append(data[i+time_step, 0])\n",
    "    return np.array(X), np.array(y)\n",
    "\n",
    "# Membuat dataset train dan test\n",
    "time_step = 30  # Menggunakan 30 hari terakhir\n",
    "X_train, y_train = create_dataset(train_data, time_step)\n",
    "X_test, y_test = create_dataset(test_data, time_step)"
   ]
  },
  {
   "cell_type": "markdown",
   "metadata": {},
   "source": [
    "## Langkah 6: Membuat Model LSTM\n",
    "Di langkah ini, kita akan membuat model LSTM dengan dua layer LSTM dan beberapa layer Dropout untuk mencegah overfitting."
   ]
  },
  {
   "cell_type": "code",
   "execution_count": null,
   "metadata": {
    "vscode": {
     "languageId": "plaintext"
    }
   },
   "outputs": [],
   "source": [
    "# Membuat model LSTM\n",
    "model = Sequential()\n",
    "\n",
    "# Menambahkan LSTM layers\n",
    "model.add(LSTM(units=50, return_sequences=True, input_shape=(X_train.shape[1], 1)))\n",
    "model.add(Dropout(0.2))\n",
    "model.add(LSTM(units=50, return_sequences=False))\n",
    "model.add(Dropout(0.2))\n",
    "\n",
    "# Menambahkan layer output\n",
    "model.add(Dense(units=1))\n",
    "\n",
    "# Kompilasi model\n",
    "model.compile(optimizer='adam', loss='mean_squared_error')\n",
    "\n",
    "# Melatih model\n",
    "model.fit(X_train, y_train, epochs=20, batch_size=32, validation_data=(X_test, y_test))"
   ]
  },
  {
   "cell_type": "markdown",
   "metadata": {},
   "source": [
    "## Langkah 7: Prediksi Harga Tiket\n",
    "Setelah model dilatih, kita akan menggunakannya untuk memprediksi harga tiket pesawat pada data testing."
   ]
  },
  {
   "cell_type": "code",
   "execution_count": null,
   "metadata": {
    "vscode": {
     "languageId": "plaintext"
    }
   },
   "outputs": [],
   "source": [
    "# Prediksi harga tiket dengan model yang telah dilatih\n",
    "predictions = model.predict(X_test)\n",
    "\n",
    "# Mengembalikan skala data ke bentuk asli\n",
    "predictions = scaler.inverse_transform(predictions)\n",
    "y_test_actual = scaler.inverse_transform(y_test.reshape(-1, 1))"
   ]
  },
  {
   "cell_type": "markdown",
   "metadata": {},
   "source": [
    "## Langkah 8: Visualisasi Hasil Prediksi\n",
    "Mari kita visualisasikan hasil prediksi harga tiket pesawat dibandingkan dengan harga aktual."
   ]
  },
  {
   "cell_type": "code",
   "execution_count": null,
   "metadata": {
    "vscode": {
     "languageId": "plaintext"
    }
   },
   "outputs": [],
   "source": [
    "# Visualisasi hasil prediksi vs aktual\n",
    "plt.figure(figsize=(10, 6))\n",
    "plt.plot(df.index[len(train_data) + time_step:], y_test_actual, label='Harga Aktual')\n",
    "plt.plot(df.index[len(train_data) + time_step:], predictions, label='Harga Prediksi')\n",
    "plt.title('Prediksi Harga Tiket Pesawat')\n",
    "plt.xlabel('Tanggal')\n",
    "plt.ylabel('Harga')\n",
    "plt.legend()\n",
    "plt.show()"
   ]
  },
  {
   "cell_type": "markdown",
   "metadata": {},
   "source": [
    "## Langkah 9: Evaluasi Model\n",
    "Kita akan menggunakan Mean Squared Error (MSE) untuk mengevaluasi performa model dalam memprediksi harga tiket."
   ]
  },
  {
   "cell_type": "code",
   "execution_count": null,
   "metadata": {
    "vscode": {
     "languageId": "plaintext"
    }
   },
   "outputs": [],
   "source": [
    "# Menghitung Mean Squared Error (MSE)\n",
    "mse = mean_squared_error(y_test_actual, predictions)\n",
    "print(f'Mean Squared Error: {mse}')"
   ]
  },
  {
   "cell_type": "markdown",
   "metadata": {},
   "source": [
    "## Kesimpulan\n",
    "Model LSTM ini mampu memprediksi harga tiket pesawat berdasarkan tren historis. Dengan model ini, pengguna dapat mengetahui waktu terbaik untuk membeli tiket pesawat, berdasarkan tren yang dianalisis oleh model."
   ]
  }
 ],
 "metadata": {
  "language_info": {
   "name": "python"
  }
 },
 "nbformat": 4,
 "nbformat_minor": 2
}
